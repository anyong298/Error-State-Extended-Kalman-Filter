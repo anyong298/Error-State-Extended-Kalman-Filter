{
 "cells": [
  {
   "cell_type": "code",
   "execution_count": 1,
   "metadata": {},
   "outputs": [],
   "source": [
    "import pickle\n",
    "import sys\n",
    "import numpy as np\n",
    "import matplotlib.pyplot as plt\n",
    "from mpl_toolkits.mplot3d import Axes3D\n",
    "\n",
    "from rotations import Quaternion, skew_symmetric\n",
    "sys.path.append('./data')"
   ]
  },
  {
   "cell_type": "code",
   "execution_count": 2,
   "metadata": {},
   "outputs": [],
   "source": [
    "#### 1. Data ###################################################################################\n",
    "\n",
    "################################################################################################\n",
    "# This is where you will load the data from the pickle files. For parts 1 and 2, you will use\n",
    "# p1_data.pkl. For part 3, you will use p3_data.pkl.\n",
    "################################################################################################\n",
    "with open('data/p1_data.pkl', 'rb') as file:\n",
    "    data = pickle.load(file)\n"
   ]
  },
  {
   "cell_type": "code",
   "execution_count": 3,
   "metadata": {},
   "outputs": [],
   "source": [
    "################################################################################################\n",
    "# Each element of the data dictionary is stored as an item from the data dictionary, which we\n",
    "# will store in local variables, described by the following:\n",
    "#   gt: Data object containing ground truth. with the following fields:\n",
    "#     a: Acceleration of the vehicle, in the inertial frame\n",
    "#     v: Velocity of the vehicle, in the inertial frame\n",
    "#     p: Position of the vehicle, in the inertial frame\n",
    "#     alpha: Rotational acceleration of the vehicle, in the inertial frame\n",
    "#     w: Rotational velocity of the vehicle, in the inertial frame\n",
    "#     r: Rotational position of the vehicle, in Euler (XYZ) angles in the inertial frame\n",
    "#     _t: Timestamp in ms.\n",
    "#   imu_f: StampedData object with the imu specific force data (given in vehicle frame).\n",
    "#     data: The actual data\n",
    "#     t: Timestamps in ms.\n",
    "#   imu_w: StampedData object with the imu rotational velocity (given in the vehicle frame).\n",
    "#     data: The actual data\n",
    "#     t: Timestamps in ms.\n",
    "#   gnss: StampedData object with the GNSS data.\n",
    "#     data: The actual data\n",
    "#     t: Timestamps in ms.\n",
    "#   lidar: StampedData object with the LIDAR data (positions only).\n",
    "#     data: The actual data\n",
    "#     t: Timestamps in ms.\n",
    "################################################################################################\n",
    "gt = data['gt']\n",
    "imu_f = data['imu_f']\n",
    "imu_w = data['imu_w']\n",
    "gnss = data['gnss']\n",
    "lidar = data['lidar']\n"
   ]
  },
  {
   "cell_type": "code",
   "execution_count": 4,
   "metadata": {},
   "outputs": [
    {
     "name": "stdout",
     "output_type": "stream",
     "text": [
      "<class 'student_utils.StampedData'>\n",
      "(10918, 3)\n",
      "(10920,)\n"
     ]
    }
   ],
   "source": [
    "print(type(imu_f))\n",
    "print(imu_f.data.shape)\n",
    "print(imu_f.t.shape)\n",
    "a = np.concatenate([np.reshape(imu_f.t[0:10918], (-1,1)), imu_f.data],axis=1)\n",
    "np.savetxt(\"imu_f.csv\", a, delimiter=\",\")"
   ]
  },
  {
   "cell_type": "code",
   "execution_count": 5,
   "metadata": {},
   "outputs": [
    {
     "name": "stdout",
     "output_type": "stream",
     "text": [
      "<class 'student_utils.StampedData'>\n",
      "<class 'numpy.ndarray'>\n"
     ]
    }
   ],
   "source": [
    "print(type(imu_w))\n",
    "print(type(imu_w.data))\n",
    "a = np.concatenate([np.reshape(imu_w.t[0:10918], (-1,1)), imu_w.data],axis=1)\n",
    "np.savetxt(\"imu_w.csv\", a, delimiter=\",\")"
   ]
  },
  {
   "cell_type": "code",
   "execution_count": 6,
   "metadata": {},
   "outputs": [
    {
     "name": "stdout",
     "output_type": "stream",
     "text": [
      "<class 'student_utils.StampedData'>\n",
      "<class 'numpy.ndarray'>\n"
     ]
    }
   ],
   "source": [
    "print(type(gnss))\n",
    "print(type(gnss.data))\n",
    "a = np.concatenate([np.reshape(gnss.t, (-1,1)), gnss.data],axis=1)\n",
    "np.savetxt(\"gnss.csv\", a, delimiter=\",\")"
   ]
  },
  {
   "cell_type": "code",
   "execution_count": 7,
   "metadata": {},
   "outputs": [
    {
     "name": "stdout",
     "output_type": "stream",
     "text": [
      "<class 'student_utils.StampedData'>\n"
     ]
    }
   ],
   "source": [
    "print(type(lidar))\n",
    "a = np.concatenate([np.reshape(lidar.t, (-1,1)), lidar.data],axis=1)\n",
    "np.savetxt(\"lidar.csv\", a, delimiter=\",\")"
   ]
  },
  {
   "cell_type": "code",
   "execution_count": 8,
   "metadata": {},
   "outputs": [
    {
     "name": "stdout",
     "output_type": "stream",
     "text": [
      "(10920,)\n",
      "(8734, 3)\n",
      "(8734, 3)\n",
      "(8734, 3)\n",
      "(8734, 3)\n",
      "(8734, 3)\n",
      "(8734, 3)\n"
     ]
    }
   ],
   "source": [
    "print(gt._t.shape)\n",
    "print(gt._p.shape)\n",
    "print(gt._r.shape)\n",
    "print(gt._v.shape)\n",
    "print(gt._w.shape)\n",
    "print(gt._a.shape)\n",
    "print(gt._alpha.shape)\n",
    "a = np.concatenate([np.reshape(gt._t[0:8734], (-1,1)), gt._p, gt._r, gt._v, gt._w, gt._a, gt._alpha,],axis=1)\n",
    "np.savetxt(\"gt.csv\", a, delimiter=\",\")"
   ]
  },
  {
   "cell_type": "code",
   "execution_count": null,
   "metadata": {},
   "outputs": [],
   "source": []
  }
 ],
 "metadata": {
  "kernelspec": {
   "display_name": "nuscenes",
   "language": "python",
   "name": "nuscenes"
  },
  "language_info": {
   "codemirror_mode": {
    "name": "ipython",
    "version": 3
   },
   "file_extension": ".py",
   "mimetype": "text/x-python",
   "name": "python",
   "nbconvert_exporter": "python",
   "pygments_lexer": "ipython3",
   "version": "3.7.9"
  }
 },
 "nbformat": 4,
 "nbformat_minor": 4
}
